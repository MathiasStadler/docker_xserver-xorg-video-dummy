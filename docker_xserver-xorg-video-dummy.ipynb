{
 "cells": [
  {
   "cell_type": "markdown",
   "metadata": {},
   "source": [
    "* Try out xserver-xorg-video-dummy inside docker"
   ]
  },
  {
   "cell_type": "markdown",
   "metadata": {},
   "source": [
    "- Article from here\n",
    "    - [Remote Desktop to Ubuntu Instance with no GUI](https://thilinamad.medium.com/remote-desktop-to-ubuntu-instance-with-no-gui-f98566adb53e)\n",
    "    - [headless mode inside an ubuntu x86_64 docker image](https://community.teamviewer.com/English/discussion/110374/how-to-run-teamviewer-in-headless-mode-inside-an-ubuntu-x86-64-docker-image)\n",
    "    - [[Solved]-XDummy in Docker container-docker](https://www.appsloveworld.com/docker/100/7/xdummy-in-docker-container?expand_article=1)\n"
   ]
  }
 ],
 "metadata": {
  "kernelspec": {
   "display_name": "Bash",
   "language": "bash",
   "name": "bash"
  },
  "language_info": {
   "name": "bash"
  }
 },
 "nbformat": 4,
 "nbformat_minor": 2
}
