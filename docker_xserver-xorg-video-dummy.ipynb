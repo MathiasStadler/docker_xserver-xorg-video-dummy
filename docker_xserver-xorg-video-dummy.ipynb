{
 "cells": [
  {
   "cell_type": "markdown",
   "metadata": {},
   "source": [
    "* Try out xserver-xorg-video-dummy inside docker"
   ]
  },
  {
   "cell_type": "markdown",
   "metadata": {},
   "source": [
    "- Article from here\n",
    "    - [Remote Desktop to Ubuntu Instance with no GUI](https://thilinamad.medium.com/remote-desktop-to-ubuntu-instance-with-no-gui-f98566adb53e)\n",
    "    - [headless mode inside an ubuntu x86_64 docker image](https://community.teamviewer.com/English/discussion/110374/how-to-run-teamviewer-in-headless-mode-inside-an-ubuntu-x86-64-docker-image)\n",
    "    - [[Solved]-XDummy in Docker container-docker](https://www.appsloveworld.com/docker/100/7/xdummy-in-docker-container?expand_article=1)\n"
   ]
  },
  {
   "cell_type": "markdown",
   "metadata": {},
   "source": [
    "***\n",
    "hint: bash write lines to file"
   ]
  },
  {
   "cell_type": "code",
   "execution_count": null,
   "metadata": {
    "vscode": {
     "languageId": "shellscript"
    }
   },
   "outputs": [],
   "source": [
    "cat > example.txt << EOF\n",
    "This is an input stream literal\n",
    "EOF"
   ]
  },
  {
   "cell_type": "markdown",
   "metadata": {},
   "source": [
    "***"
   ]
  },
  {
   "cell_type": "markdown",
   "metadata": {},
   "source": [
    "* run x app inside docker"
   ]
  },
  {
   "cell_type": "markdown",
   "metadata": {},
   "source": [
    "    * create Dockerfile"
   ]
  },
  {
   "cell_type": "code",
   "execution_count": null,
   "metadata": {
    "vscode": {
     "languageId": "shellscript"
    }
   },
   "outputs": [],
   "source": [
    "cat > Dockerfile_xeyes << EOF\n",
    "FROM ubuntu\n",
    "RUN apt-get update && apt-get install -qqy x11-apps\n",
    "CMD xeyes\n",
    "EOF"
   ]
  },
  {
   "cell_type": "markdown",
   "metadata": {},
   "source": [
    "    * build image"
   ]
  },
  {
   "cell_type": "code",
   "execution_count": null,
   "metadata": {
    "vscode": {
     "languageId": "shellscript"
    }
   },
   "outputs": [],
   "source": [
    "docker build -f Dockerfile_xeyes -t xeyes ."
   ]
  },
  {
   "cell_type": "markdown",
   "metadata": {},
   "source": [
    "[Docker container handling - How to Remove Images and Containers in Docker](https://www.freecodecamp.org/news/how-to-remove-images-in-docker/)"
   ]
  },
  {
   "cell_type": "markdown",
   "metadata": {},
   "source": [
    "    * show image"
   ]
  },
  {
   "cell_type": "code",
   "execution_count": 25,
   "metadata": {
    "vscode": {
     "languageId": "shellscript"
    }
   },
   "outputs": [
    {
     "name": "stdout",
     "output_type": "stream",
     "text": [
      "REPOSITORY   TAG       IMAGE ID       CREATED        SIZE\n",
      "xeyes        latest    68c3414b8f86   21 hours ago   142MB\n"
     ]
    }
   ],
   "source": [
    "docker images -a"
   ]
  },
  {
   "cell_type": "markdown",
   "metadata": {},
   "source": [
    "    * delete one docker images by id"
   ]
  },
  {
   "cell_type": "code",
   "execution_count": null,
   "metadata": {
    "vscode": {
     "languageId": "shellscript"
    }
   },
   "outputs": [],
   "source": [
    "# docker rmi <your-image-id>\n",
    "docker rmi 68c3414b8f86"
   ]
  },
  {
   "cell_type": "code",
   "execution_count": 26,
   "metadata": {
    "vscode": {
     "languageId": "shellscript"
    }
   },
   "outputs": [
    {
     "name": "stdout",
     "output_type": "stream",
     "text": [
      "localhost:1\n"
     ]
    }
   ],
   "source": [
    "    # set display\n",
    "    export DISPLAY=:1\n",
    "    echo $DISPLAY"
   ]
  },
  {
   "cell_type": "markdown",
   "metadata": {},
   "source": [
    "    * Remove all images at once"
   ]
  },
  {
   "cell_type": "code",
   "execution_count": null,
   "metadata": {
    "vscode": {
     "languageId": "shellscript"
    }
   },
   "outputs": [],
   "source": [
    "docker rmi $(docker images -q)"
   ]
  },
  {
   "cell_type": "markdown",
   "metadata": {},
   "source": [
    "    * run image"
   ]
  },
  {
   "cell_type": "code",
   "execution_count": 27,
   "metadata": {
    "vscode": {
     "languageId": "shellscript"
    }
   },
   "outputs": [
    {
     "name": "stdout",
     "output_type": "stream",
     "text": [
      "Error: Can't open display: \n"
     ]
    },
    {
     "ename": "",
     "evalue": "1",
     "output_type": "error",
     "traceback": []
    }
   ],
   "source": [
    "docker run xeyes"
   ]
  }
 ],
 "metadata": {
  "kernelspec": {
   "display_name": "Bash",
   "language": "bash",
   "name": "bash"
  },
  "language_info": {
   "codemirror_mode": "shell",
   "file_extension": ".sh",
   "mimetype": "text/x-sh",
   "name": "bash"
  }
 },
 "nbformat": 4,
 "nbformat_minor": 2
}
